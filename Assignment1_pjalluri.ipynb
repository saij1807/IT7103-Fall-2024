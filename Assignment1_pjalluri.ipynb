{
  "nbformat": 4,
  "nbformat_minor": 0,
  "metadata": {
    "colab": {
      "provenance": [],
      "authorship_tag": "ABX9TyNYxsw0z5ZAExQvBy4Ui0e2",
      "include_colab_link": true
    },
    "kernelspec": {
      "name": "python3",
      "display_name": "Python 3"
    },
    "language_info": {
      "name": "python"
    }
  },
  "cells": [
    {
      "cell_type": "markdown",
      "metadata": {
        "id": "view-in-github",
        "colab_type": "text"
      },
      "source": [
        "<a href=\"https://colab.research.google.com/github/saij1807/IT7103-Fall-2024/blob/main/Assignment1_pjalluri.ipynb\" target=\"_parent\"><img src=\"https://colab.research.google.com/assets/colab-badge.svg\" alt=\"Open In Colab\"/></a>"
      ]
    },
    {
      "cell_type": "code",
      "execution_count": 22,
      "metadata": {
        "colab": {
          "base_uri": "https://localhost:8080/"
        },
        "id": "xa24riEVGOXK",
        "outputId": "c200ddfd-c008-40d6-eb8f-0f1fd659ed99"
      },
      "outputs": [
        {
          "output_type": "stream",
          "name": "stdout",
          "text": [
            "Employee Rating Dataset:\n",
            "EmployeeNumber              int64\n",
            "Department                 object\n",
            "EnvironmentSatisfaction    object\n",
            "JobRole                    object\n",
            "PerformanceRating          object\n",
            "YearsAtCompany              int64\n",
            "YearsInCurrentRole          int64\n",
            "MonthlyIncome               int64\n",
            "dtype: object\n",
            "Classification: {'EmployeeNumber': 'Numeric', 'Department': 'Nominal', 'EnvironmentSatisfaction': 'Nominal', 'JobRole': 'Nominal', 'PerformanceRating': 'Binary', 'YearsAtCompany': 'Numeric', 'YearsInCurrentRole': 'Numeric', 'MonthlyIncome': 'Numeric'}\n",
            "\n",
            "Employee General Dataset:\n",
            "EmployeeNumber     int64\n",
            "Education         object\n",
            "EducationField    object\n",
            "MaritalStatus     object\n",
            "dtype: object\n",
            "Classification: {'EmployeeNumber': 'Numeric', 'Education': 'Nominal', 'EducationField': 'Nominal', 'MaritalStatus': 'Nominal'}\n"
          ]
        }
      ],
      "source": [
        "import pandas as pd\n",
        "\n",
        "erp = 'employee_rating.csv'\n",
        "egp = 'employee_general.csv'\n",
        "\n",
        "employee_rating = pd.read_csv(erp)\n",
        "employee_general = pd.read_csv(egp, sep=\"|\")\n",
        "\n",
        "def classify_data_types(df):\n",
        "    classification = {}\n",
        "    for column in df.columns:\n",
        "        if pd.api.types.is_numeric_dtype(df[column]):\n",
        "            classification[column] = 'Numeric'\n",
        "        elif df[column].nunique() == 2:\n",
        "            classification[column] = 'Binary'\n",
        "        elif df[column].dtype == 'object':\n",
        "            classification[column] = 'Nominal'\n",
        "        else:\n",
        "            classification[column] = 'Ordinal'\n",
        "    return classification\n",
        "\n",
        "\n",
        "print(\"Employee Rating Dataset:\")\n",
        "print(employee_rating.dtypes)\n",
        "print(\"Classification:\", classify_data_types(employee_rating))\n",
        "\n",
        "\n",
        "print(\"\\nEmployee General Dataset:\")\n",
        "print(employee_general.dtypes)\n",
        "print(\"Classification:\", classify_data_types(employee_general))\n"
      ]
    },
    {
      "cell_type": "code",
      "source": [
        "import pandas as pd\n",
        "import numpy as np\n",
        "\n",
        "employee_rating_path = 'employee_rating.csv'\n",
        "employee_rating = pd.read_csv(employee_rating_path)\n",
        "\n",
        "employee_rating['log_income'] = np.log(employee_rating['MonthlyIncome'])\n",
        "\n",
        "\n",
        "print(employee_rating[['MonthlyIncome', 'log_income']].head())\n"
      ],
      "metadata": {
        "colab": {
          "base_uri": "https://localhost:8080/"
        },
        "id": "ZDFIoQXAgahY",
        "outputId": "bb6b7175-c1b4-47ee-ad7b-426b39d8b697"
      },
      "execution_count": 5,
      "outputs": [
        {
          "output_type": "stream",
          "name": "stdout",
          "text": [
            "   MonthlyIncome  log_income\n",
            "0           5993    8.698347\n",
            "1           5130    8.542861\n",
            "2           2090    7.644919\n",
            "3           2909    7.975565\n",
            "4           3468    8.151333\n"
          ]
        }
      ]
    },
    {
      "cell_type": "code",
      "source": [
        "import pandas as pd\n",
        "\n",
        "employee_rating_path = 'employee_rating.csv'\n",
        "employee_rating = pd.read_csv(employee_rating_path)\n",
        "\n",
        "print(employee_rating['EnvironmentSatisfaction'].unique())\n",
        "print(employee_rating['PerformanceRating'].unique())\n",
        "\n",
        "employee_rating['EnvironmentSatisfaction'] = employee_rating['EnvironmentSatisfaction'].replace(\n",
        "    {'Low': 1, 'Medium': 2, 'High': 3, 'Very High': 4}\n",
        ")\n",
        "\n",
        "employee_rating['PerformanceRating'] = employee_rating['PerformanceRating'].replace(\n",
        "    {'Excellent': 1, 'Outstanding': 2}\n",
        ")\n",
        "\n",
        "print(employee_rating)\n"
      ],
      "metadata": {
        "colab": {
          "base_uri": "https://localhost:8080/"
        },
        "id": "VxLFfrNqhBKf",
        "outputId": "7d303b58-73c5-425b-f9cf-2a16dac900aa"
      },
      "execution_count": 19,
      "outputs": [
        {
          "output_type": "stream",
          "name": "stdout",
          "text": [
            "['Medium' 'High' 'Very High' 'Low']\n",
            "['Excellent' 'Outstanding']\n",
            "      EmployeeNumber              Department  EnvironmentSatisfaction  \\\n",
            "0                  1                   Sales                        2   \n",
            "1                  2  Research & Development                        3   \n",
            "2                  4  Research & Development                        4   \n",
            "3                  5  Research & Development                        4   \n",
            "4                  7  Research & Development                        1   \n",
            "...              ...                     ...                      ...   \n",
            "1465            2061  Research & Development                        3   \n",
            "1466            2062  Research & Development                        4   \n",
            "1467            2064  Research & Development                        2   \n",
            "1468            2065                   Sales                        4   \n",
            "1469            2068  Research & Development                        2   \n",
            "\n",
            "                        JobRole  PerformanceRating  YearsAtCompany  \\\n",
            "0               Sales Executive                  1               6   \n",
            "1            Research Scientist                  2              10   \n",
            "2         Laboratory Technician                  1               0   \n",
            "3            Research Scientist                  1               8   \n",
            "4         Laboratory Technician                  1               2   \n",
            "...                         ...                ...             ...   \n",
            "1465      Laboratory Technician                  1               5   \n",
            "1466  Healthcare Representative                  1               7   \n",
            "1467     Manufacturing Director                  2               6   \n",
            "1468            Sales Executive                  1               9   \n",
            "1469      Laboratory Technician                  1               4   \n",
            "\n",
            "      YearsInCurrentRole  MonthlyIncome  \n",
            "0                      4           5993  \n",
            "1                      7           5130  \n",
            "2                      0           2090  \n",
            "3                      7           2909  \n",
            "4                      2           3468  \n",
            "...                  ...            ...  \n",
            "1465                   2           2571  \n",
            "1466                   7           9991  \n",
            "1467                   2           6142  \n",
            "1468                   6           5390  \n",
            "1469                   3           4404  \n",
            "\n",
            "[1470 rows x 8 columns]\n"
          ]
        }
      ]
    },
    {
      "cell_type": "code",
      "source": [
        "import pandas as pd\n",
        "\n",
        "employee_general_path = 'employee_general.csv'\n",
        "employee_general = pd.read_csv(employee_general_path, sep=\"|\")\n",
        "\n",
        "print(employee_general['Education'].unique())\n",
        "print(employee_general['MaritalStatus'].unique())\n",
        "\n",
        "employee_general['Education'] = employee_general['Education'].replace(\n",
        "    {'Below College': 1, 'College': 2, 'Bachelor':3, 'Master': 4,'Doctor': 5}\n",
        ")\n",
        "\n",
        "\n",
        "employee_general['MaritalStatus'] = employee_general['MaritalStatus'].replace(\n",
        "    {'Single': 1, 'Married': 2, 'Divorced': 3}\n",
        ")\n",
        "\n",
        "print(employee_general)\n"
      ],
      "metadata": {
        "colab": {
          "base_uri": "https://localhost:8080/"
        },
        "id": "YTtlz86Thde9",
        "outputId": "e9cae38a-a905-48d0-d9e0-a5d484772737"
      },
      "execution_count": 20,
      "outputs": [
        {
          "output_type": "stream",
          "name": "stdout",
          "text": [
            "['College' 'Below College' 'Master' 'Bachelor' 'Doctor']\n",
            "['Single' 'Married' 'Divorced']\n",
            "      EmployeeNumber  Education EducationField  MaritalStatus\n",
            "0                  1          2  Life Sciences              1\n",
            "1                  2          1  Life Sciences              2\n",
            "2                  4          2          Other              1\n",
            "3                  5          4  Life Sciences              2\n",
            "4                  7          1        Medical              2\n",
            "...              ...        ...            ...            ...\n",
            "1465            2061          2        Medical              2\n",
            "1466            2062          1        Medical              2\n",
            "1467            2064          3  Life Sciences              2\n",
            "1468            2065          3        Medical              2\n",
            "1469            2068          3        Medical              2\n",
            "\n",
            "[1470 rows x 4 columns]\n"
          ]
        }
      ]
    },
    {
      "cell_type": "code",
      "source": [
        "import pandas as pd\n",
        "\n",
        "\n",
        "employee_rating_path = 'employee_rating.csv'\n",
        "employee_general_path = 'employee_general.csv'\n",
        "\n",
        "employee_rating = pd.read_csv(employee_rating_path)\n",
        "employee_general = pd.read_csv(employee_general_path, sep=\"|\")\n",
        "\n",
        "merged_df = pd.merge(employee_rating, employee_general, on=\"EmployeeNumber\", how=\"inner\")\n",
        "\n",
        "print(merged_df.head())\n"
      ],
      "metadata": {
        "colab": {
          "base_uri": "https://localhost:8080/"
        },
        "id": "E8zvyB_ihvuO",
        "outputId": "7f45c62c-e7fe-40fa-baf2-e571cb3a1564"
      },
      "execution_count": 17,
      "outputs": [
        {
          "output_type": "stream",
          "name": "stdout",
          "text": [
            "   EmployeeNumber              Department EnvironmentSatisfaction  \\\n",
            "0               1                   Sales                  Medium   \n",
            "1               2  Research & Development                    High   \n",
            "2               4  Research & Development               Very High   \n",
            "3               5  Research & Development               Very High   \n",
            "4               7  Research & Development                     Low   \n",
            "\n",
            "                 JobRole PerformanceRating  YearsAtCompany  \\\n",
            "0        Sales Executive         Excellent               6   \n",
            "1     Research Scientist       Outstanding              10   \n",
            "2  Laboratory Technician         Excellent               0   \n",
            "3     Research Scientist         Excellent               8   \n",
            "4  Laboratory Technician         Excellent               2   \n",
            "\n",
            "   YearsInCurrentRole  MonthlyIncome      Education EducationField  \\\n",
            "0                   4           5993        College  Life Sciences   \n",
            "1                   7           5130  Below College  Life Sciences   \n",
            "2                   0           2090        College          Other   \n",
            "3                   7           2909         Master  Life Sciences   \n",
            "4                   2           3468  Below College        Medical   \n",
            "\n",
            "  MaritalStatus  \n",
            "0        Single  \n",
            "1       Married  \n",
            "2        Single  \n",
            "3       Married  \n",
            "4       Married  \n"
          ]
        }
      ]
    }
  ]
}